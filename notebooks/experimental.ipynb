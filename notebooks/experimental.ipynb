{
 "cells": [
  {
   "cell_type": "code",
   "execution_count": null,
   "id": "ea1b0702",
   "metadata": {},
   "outputs": [],
   "source": [
    "import tensorflow as tf\n",
    "import numpy as np\n",
    "import pandas as pd\n",
    "import matplotlib.pyplot as plt\n",
    "import sys\n",
    "sys.path.append('../src/')\n",
    "sys.path.append('../automatic_peak_integration/scripts/')\n",
    "\n",
    "import augmentation\n",
    "import train\n",
    "import dataset"
   ]
  },
  {
   "cell_type": "code",
   "execution_count": null,
   "id": "ee8f0470",
   "metadata": {},
   "outputs": [],
   "source": [
    "files = train.read_files('../../inputs/train_files/11*')\n",
    "files = dataset.get_train_data(files, target_signal_size=512)"
   ]
  },
  {
   "cell_type": "code",
   "execution_count": null,
   "id": "bd4efc47",
   "metadata": {},
   "outputs": [],
   "source": [
    "augmentation_fn = augmentation.Compose([\n",
    "    augmentation.RandomBaselineDrift(prob=0.5),\n",
    "    augmentation.RandomCropping(prob=0.5),\n",
    "    augmentation.RandomPadding(prob=0.5),\n",
    "    augmentation.RandomNoise(prob=0.5),\n",
    "    augmentation.RandomReverse(prob=0.5)\n",
    "])\n",
    "\n",
    "ds1 = dataset.get_dataset(\n",
    "    *files, \n",
    "    training=True, \n",
    "    augmentation=augmentation_fn\n",
    ")\n",
    "\n",
    "ds2 = dataset.get_dataset(\n",
    "    *files, \n",
    ")"
   ]
  },
  {
   "cell_type": "code",
   "execution_count": null,
   "id": "f70de469",
   "metadata": {},
   "outputs": [],
   "source": [
    "fig, axes = plt.subplots(5, 5, figsize=(25, 25))\n",
    "axes = axes.reshape(-1)\n",
    "\n",
    "for x, y in ds2.take(1):\n",
    "    pass\n",
    "\n",
    "for i in range(25):\n",
    "    axes[i].plot(np.squeeze(x[i].numpy()))\n",
    "    \n",
    "plt.savefig('peaks_original.svg')"
   ]
  },
  {
   "cell_type": "code",
   "execution_count": null,
   "id": "1dbd5020",
   "metadata": {},
   "outputs": [],
   "source": [
    "fig, axes = plt.subplots(5, 5, figsize=(25, 25))\n",
    "axes = axes.reshape(-1)\n",
    "\n",
    "for x, y in ds1.take(1):\n",
    "    pass\n",
    "\n",
    "for i in range(25):\n",
    "    axes[i].plot(np.squeeze(x[i].numpy()))\n",
    "    \n",
    "plt.savefig('peaks_distorted.svg')"
   ]
  },
  {
   "cell_type": "code",
   "execution_count": null,
   "id": "936aebe7",
   "metadata": {},
   "outputs": [],
   "source": []
  }
 ],
 "metadata": {
  "kernelspec": {
   "display_name": "Python 3 (ipykernel)",
   "language": "python",
   "name": "python3"
  },
  "language_info": {
   "codemirror_mode": {
    "name": "ipython",
    "version": 3
   },
   "file_extension": ".py",
   "mimetype": "text/x-python",
   "name": "python",
   "nbconvert_exporter": "python",
   "pygments_lexer": "ipython3",
   "version": "3.10.6"
  }
 },
 "nbformat": 4,
 "nbformat_minor": 5
}
